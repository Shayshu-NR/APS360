{
  "nbformat": 4,
  "nbformat_minor": 0,
  "metadata": {
    "colab": {
      "name": "APS360 Lab_5_Spam_Detection.ipynb",
      "provenance": [],
      "collapsed_sections": [],
      "toc_visible": true
    },
    "kernelspec": {
      "display_name": "Python 3",
      "language": "python",
      "name": "python3"
    },
    "language_info": {
      "codemirror_mode": {
        "name": "ipython",
        "version": 3
      },
      "file_extension": ".py",
      "mimetype": "text/x-python",
      "name": "python",
      "nbconvert_exporter": "python",
      "pygments_lexer": "ipython3",
      "version": "3.6.3"
    },
    "accelerator": "GPU"
  },
  "cells": [
    {
      "cell_type": "markdown",
      "metadata": {
        "id": "_bphECiUa9zw"
      },
      "source": [
        "# Lab 5: Spam Detection"
      ]
    },
    {
      "cell_type": "code",
      "metadata": {
        "colab": {
          "base_uri": "https://localhost:8080/"
        },
        "id": "3Gwlk96rd9pH",
        "outputId": "715e590d-5a0e-4e1d-e91c-89efd37fa4e9"
      },
      "source": [
        "%%shell\r\n",
        "jupyter nbconvert --to html /content/drive/MyDrive/Colab\\ Notebooks/APS360\\ Lab_5_Spam_Detection.ipynb"
      ],
      "execution_count": null,
      "outputs": [
        {
          "output_type": "stream",
          "text": [
            "[NbConvertApp] Converting notebook /content/drive/MyDrive/Colab Notebooks/APS360 Lab_5_Spam_Detection.ipynb to html\n",
            "[NbConvertApp] Writing 532454 bytes to /content/drive/MyDrive/Colab Notebooks/APS360 Lab_5_Spam_Detection.html\n"
          ],
          "name": "stdout"
        },
        {
          "output_type": "execute_result",
          "data": {
            "text/plain": [
              ""
            ]
          },
          "metadata": {
            "tags": []
          },
          "execution_count": 14
        }
      ]
    },
    {
      "cell_type": "markdown",
      "metadata": {
        "id": "rWiUqJJTa9z6"
      },
      "source": [
        "## Colab Link\n",
        "\n",
        "Include a link to your Colab file here. If you would like the TA to look at your\n",
        "Colab file in case your solutions are cut off, **please make sure that your Colab\n",
        "file is publicly accessible at the time of submission**.\n",
        "\n",
        "Colab Link: https://colab.research.google.com/drive/1V3MW-UrNFE8kmFaxy5CR1f4A2EjfZTn3?usp=sharing"
      ]
    },
    {
      "cell_type": "code",
      "metadata": {
        "id": "GAzfgdagnMA3"
      },
      "source": [
        "from google.colab import drive\n",
        "drive.mount('/content/drive')"
      ],
      "execution_count": null,
      "outputs": []
    },
    {
      "cell_type": "code",
      "metadata": {
        "collapsed": true,
        "id": "HgfNOUaPa9z8"
      },
      "source": [
        "import torch\n",
        "import torch.nn as nn\n",
        "import torch.nn.functional as F\n",
        "import torch.optim as optim\n",
        "import numpy as np\n",
        "import torchtext\n",
        "import matplotlib.pyplot as plt"
      ],
      "execution_count": null,
      "outputs": []
    },
    {
      "cell_type": "markdown",
      "metadata": {
        "id": "M0jLI9LBa90C"
      },
      "source": [
        "## Part 1. Data Cleaning [15 pt]\n",
        "\n",
        "We will be using the \"SMS Spam Collection Data Set\" available at http://archive.ics.uci.edu/ml/datasets/SMS+Spam+Collection\n",
        "\n",
        "There is a link to download the \"Data Folder\" at the very top of the webpage. Download the zip file, unzip it, and upload the file `SMSSpamCollection` to Colab.    "
      ]
    },
    {
      "cell_type": "markdown",
      "metadata": {
        "id": "sSuF7C_Ga90E"
      },
      "source": [
        "### Part (a) [2 pt]\n",
        "\n",
        "Open up the file in Python, and print out one example of a spam SMS, and one example of a non-spam SMS.\n",
        "\n",
        "What is the label value for a spam message, and what is the label value for a non-spam message?"
      ]
    },
    {
      "cell_type": "markdown",
      "metadata": {
        "id": "F2uomtLfo1x3"
      },
      "source": [
        "Spam texts are labeld \"spam\" and regular texts are labeled \"ham\""
      ]
    },
    {
      "cell_type": "code",
      "metadata": {
        "collapsed": true,
        "id": "I_IfXHeTa90F",
        "colab": {
          "base_uri": "https://localhost:8080/"
        },
        "outputId": "f19835f1-88c9-4749-9405-102da278f3cc"
      },
      "source": [
        "f = open('/content/drive/MyDrive/Colab Notebooks/SMSSpamCollection')\n",
        "lines = f.readlines()\n",
        "\n",
        "print(lines[0])\n",
        "print(lines[2])"
      ],
      "execution_count": null,
      "outputs": [
        {
          "output_type": "stream",
          "text": [
            "ham\tGo until jurong point, crazy.. Available only in bugis n great world la e buffet... Cine there got amore wat...\n",
            "\n",
            "spam\tFree entry in 2 a wkly comp to win FA Cup final tkts 21st May 2005. Text FA to 87121 to receive entry question(std txt rate)T&C's apply 08452810075over18's\n",
            "\n"
          ],
          "name": "stdout"
        }
      ]
    },
    {
      "cell_type": "markdown",
      "metadata": {
        "id": "AukA6vMVa90d"
      },
      "source": [
        "### Part (b) [1 pt]\n",
        "\n",
        "How many spam messages are there in the data set?\n",
        "How many non-spam messages are there in the data set?\n"
      ]
    },
    {
      "cell_type": "markdown",
      "metadata": {
        "id": "00CHl33zpnG1"
      },
      "source": [
        "There are 743 spam messages and 4831 regular messages"
      ]
    },
    {
      "cell_type": "code",
      "metadata": {
        "id": "LgsqyemVa90e",
        "colab": {
          "base_uri": "https://localhost:8080/"
        },
        "outputId": "e74dbf8b-a9fc-4674-f8e2-f292d7e8eb79"
      },
      "source": [
        "spam_count = 0\r\n",
        "regular_count = 0\r\n",
        "\r\n",
        "for line in open('/content/drive/MyDrive/Colab Notebooks/SMSSpamCollection'):\r\n",
        "  if \"ham\" in line[:3]:\r\n",
        "    regular_count += 1\r\n",
        "  else:\r\n",
        "    spam_count += 1\r\n",
        "\r\n",
        "\r\n",
        "print(\"Spam count: \", spam_count)\r\n",
        "print(\"Regular count:\", regular_count)"
      ],
      "execution_count": null,
      "outputs": [
        {
          "output_type": "stream",
          "text": [
            "Spam count:  747\n",
            "Regular count: 4827\n"
          ],
          "name": "stdout"
        }
      ]
    },
    {
      "cell_type": "markdown",
      "metadata": {
        "id": "d1WXxVt6a90h"
      },
      "source": [
        "### Part (c) [4 pt]\n",
        "\n",
        "We will be using the package `torchtext` to load, process, and batch the data.\n",
        "A tutorial to torchtext is available below. This tutorial uses the same\n",
        "Sentiment140 data set that we explored during lecture.\n",
        "\n",
        "https://medium.com/@sonicboom8/sentiment-analysis-torchtext-55fb57b1fab8\n",
        "\n",
        "Unlike what we did during lecture, we will be building a **character level RNN**.\n",
        "That is, we will treat each **character** as a token in our sequence,\n",
        "rather than each **word**.\n",
        "\n",
        "Identify two advantage and two disadvantage of modelling SMS text\n",
        "messages as a sequence of characters rather than a sequence of words."
      ]
    },
    {
      "cell_type": "markdown",
      "metadata": {
        "id": "PQdMuFPRq6P-"
      },
      "source": [
        "Advantages:\r\n",
        "* Often times text messages are informal and use abreviations and short forms. Because of this they only make sesnse reading them character by character (Ie: lol, smh, etc...)\r\n",
        "*\r\n",
        "\r\n",
        "Disadvantages: \r\n",
        "*\r\n",
        "*\r\n"
      ]
    },
    {
      "cell_type": "markdown",
      "metadata": {
        "id": "ie_D0bv9a90k"
      },
      "source": [
        "### Part (d) [1 pt]\n",
        "\n",
        "We will be loading our data set using `torchtext.data.TabularDataset`. The\n",
        "constructor will read directly from the `SMSSpamCollection` file. \n",
        "\n",
        "For the data file to be read successfuly, we\n",
        "need to specify the **fields** (columns) in the file. \n",
        "In our case, the dataset has two fields: \n",
        "\n",
        "- a text field containing the sms messages,\n",
        "- a label field which will be converted into a binary label.\n",
        "\n",
        "Split the dataset into `train`, `valid`, and `test`. Use a 60-20-20 split.\n",
        "You may find this torchtext API page helpful:\n",
        "https://torchtext.readthedocs.io/en/latest/data.html#dataset\n",
        "\n",
        "Hint: There is a `Dataset` method that can perform the random split for you."
      ]
    },
    {
      "cell_type": "code",
      "metadata": {
        "collapsed": true,
        "id": "P_Y6Puz9a90l"
      },
      "source": [
        "text_field = torchtext.legacy.data.Field(sequential=True,      # text sequence\n",
        "                                  tokenize=lambda x: x, # because are building a character-RNN\n",
        "                                  include_lengths=True, # to track the length of sequences, for batching\n",
        "                                  batch_first=True,\n",
        "                                  use_vocab=True)       # to turn each character into an integer index\n",
        "\n",
        "label_field = torchtext.legacy.data.Field(sequential=False,    # not a sequence\n",
        "                                   use_vocab=False,     # don't need to track vocabulary\n",
        "                                   is_target=True,      \n",
        "                                   batch_first=True,\n",
        "                                   preprocessing=lambda x: int(x == 'spam')) # convert text to 0 and 1\n",
        "\n",
        "fields = [('label', label_field), ('sms', text_field)]\n",
        "dataset = torchtext.legacy.data.TabularDataset('/content/drive/MyDrive/Colab Notebooks/SMSSpamCollection', # name of the file\n",
        "                                        \"tsv\",                                                      # fields are separated by a tab\n",
        "                                        fields)\n",
        "\n",
        "train, val, test = dataset.split(split_ratio=[0.6, 0.2, 0.2])"
      ],
      "execution_count": null,
      "outputs": []
    },
    {
      "cell_type": "markdown",
      "metadata": {
        "id": "v6nP0Ks_a90o"
      },
      "source": [
        "### Part (e) [2 pt]\n",
        "\n",
        "You saw in part (b) that there are many more non-spam messages than spam messages.\n",
        "This **imbalance** in our training data will be problematic for training.\n",
        "We can fix this disparity by duplicating spam messages in the training set,\n",
        "so that the training set is roughly **balanced**.\n",
        "\n",
        "Explain why having a balanced training set is helpful for training our neural network.\n",
        "\n",
        "Note: if you are not sure, try removing the below code and train your mode."
      ]
    },
    {
      "cell_type": "markdown",
      "metadata": {
        "id": "aQkYA8BKwKIE"
      },
      "source": [
        "Imbalance in the dataset will cause the the model to be biased towards the marjority. For example, if we train a model to classify pictures of cats and dogs but the dataset contain 90 dogs, and 10 cats, then the model will default to predicting a dog. So having a balanced dataset will result in a far less biased model. "
      ]
    },
    {
      "cell_type": "code",
      "metadata": {
        "collapsed": true,
        "id": "FWvx9_rka90p"
      },
      "source": [
        "def balance(train):\n",
        "  # save the original training examples\n",
        "  old_train_examples = train.examples\n",
        "  # get all the spam messages in `train`\n",
        "  train_spam = []\n",
        "  for item in train.examples:\n",
        "      if item.label == 1:\n",
        "          train_spam.append(item)\n",
        "  # duplicate each spam message 6 more times\n",
        "  train.examples = old_train_examples + train_spam * 6\n",
        "  \n",
        "  return train"
      ],
      "execution_count": null,
      "outputs": []
    },
    {
      "cell_type": "markdown",
      "metadata": {
        "id": "j7eUmBEva90r"
      },
      "source": [
        "### Part (f) [1 pt]\n",
        "\n",
        "We need to build the vocabulary on the training data by running the below code.\n",
        "This finds all the possible character tokens in the training set.\n",
        "\n",
        "Explain what the variables `text_field.vocab.stoi` and `text_field.vocab.itos` represent."
      ]
    },
    {
      "cell_type": "markdown",
      "metadata": {
        "id": "TeDm_gPfwWKZ"
      },
      "source": [
        "`text_field.vocab.stoi` returns a dictionary where the keys are all the characters in the given vocabulary, and the associated value is the numerical mapping of the character.<br>\r\n",
        "\r\n",
        "`text_field.vocab.itos` returns a list the characters in the given vocabulary but now indexed by there associated numerical mapping<br>\r\n",
        "\r\n"
      ]
    },
    {
      "cell_type": "code",
      "metadata": {
        "id": "8CQM8flKa90s",
        "colab": {
          "base_uri": "https://localhost:8080/"
        },
        "outputId": "a87747bb-01bc-46b0-f003-ff3a38ca3b27"
      },
      "source": [
        "text_field.build_vocab(train)\n",
        "text_field.vocab.stoi\n",
        "text_field.vocab.itos"
      ],
      "execution_count": null,
      "outputs": [
        {
          "output_type": "execute_result",
          "data": {
            "text/plain": [
              "['<unk>',\n",
              " '<pad>',\n",
              " ' ',\n",
              " 'e',\n",
              " 'o',\n",
              " 't',\n",
              " 'a',\n",
              " 'n',\n",
              " 'i',\n",
              " 's',\n",
              " 'r',\n",
              " 'l',\n",
              " 'h',\n",
              " 'u',\n",
              " '.',\n",
              " 'd',\n",
              " 'm',\n",
              " 'y',\n",
              " 'g',\n",
              " 'c',\n",
              " 'w',\n",
              " 'p',\n",
              " 'f',\n",
              " 'b',\n",
              " 'k',\n",
              " 'I',\n",
              " '0',\n",
              " 'v',\n",
              " 'T',\n",
              " 'E',\n",
              " 'S',\n",
              " 'A',\n",
              " ',',\n",
              " 'O',\n",
              " \"'\",\n",
              " '1',\n",
              " '2',\n",
              " 'N',\n",
              " '?',\n",
              " 'C',\n",
              " 'H',\n",
              " '!',\n",
              " 'W',\n",
              " 'x',\n",
              " '8',\n",
              " 'M',\n",
              " 'R',\n",
              " 'D',\n",
              " 'L',\n",
              " 'U',\n",
              " '5',\n",
              " '4',\n",
              " 'Y',\n",
              " 'P',\n",
              " '&',\n",
              " 'B',\n",
              " '7',\n",
              " 'G',\n",
              " '3',\n",
              " '6',\n",
              " ';',\n",
              " ':',\n",
              " 'F',\n",
              " 'j',\n",
              " '9',\n",
              " '-',\n",
              " 'z',\n",
              " ')',\n",
              " 'K',\n",
              " '/',\n",
              " 'V',\n",
              " '£',\n",
              " 'X',\n",
              " 'J',\n",
              " '#',\n",
              " '*',\n",
              " '\"',\n",
              " 'q',\n",
              " '+',\n",
              " '(',\n",
              " 'ü',\n",
              " 'Q',\n",
              " '=',\n",
              " 'Ü',\n",
              " '|',\n",
              " '>',\n",
              " '@',\n",
              " '‘',\n",
              " '\\x92',\n",
              " 'Z',\n",
              " '$',\n",
              " '_',\n",
              " '…',\n",
              " '%',\n",
              " '–',\n",
              " '<',\n",
              " '\\\\',\n",
              " '\\x96',\n",
              " '’',\n",
              " '\\t',\n",
              " '\\n',\n",
              " '[',\n",
              " ']',\n",
              " '~',\n",
              " '¡',\n",
              " '\\x91',\n",
              " '\\x93',\n",
              " '»',\n",
              " 'è',\n",
              " 'ú',\n",
              " '—',\n",
              " '“',\n",
              " '┾',\n",
              " '〨',\n",
              " '鈥']"
            ]
          },
          "metadata": {
            "tags": []
          },
          "execution_count": 10
        }
      ]
    },
    {
      "cell_type": "markdown",
      "metadata": {
        "id": "TC8WVE8Ua90u"
      },
      "source": [
        "### Part (g) [2 pt]\n",
        "\n",
        "The tokens `<unk>` and `<pad>` were not in our SMS text messages.\n",
        "What do these two values represent?"
      ]
    },
    {
      "cell_type": "markdown",
      "metadata": {
        "id": "2LEPjN2S08k3"
      },
      "source": [
        "`<unk>` represents an unknown character<br>\r\n",
        "`<pad>` represents padding in a text"
      ]
    },
    {
      "cell_type": "markdown",
      "metadata": {
        "id": "Ff5CNk7Qa90y"
      },
      "source": [
        "### Part (h) [2 pt]\n",
        "\n",
        "Since text sequences are of variable length, `torchtext` provides a `BucketIterator` data loader,\n",
        "which batches similar length sequences together. The iterator also provides functionalities to\n",
        "pad sequences automatically.\n",
        "\n",
        "Take a look at 10 batches in `train_iter`. What is the maximum length of the\n",
        "input sequence in each batch? How many `<pad>` tokens are used in each of the 10\n",
        "batches?"
      ]
    },
    {
      "cell_type": "code",
      "metadata": {
        "collapsed": true,
        "id": "V8N8qLWOa90y"
      },
      "source": [
        "train_iter = torchtext.legacy.data.BucketIterator(train,\n",
        "                                           batch_size=32,\n",
        "                                           sort_key=lambda x: len(x.sms), # to minimize padding\n",
        "                                           sort_within_batch=True,        # sort within each batch\n",
        "                                           repeat=False)                  # repeat the iterator for many epochs"
      ],
      "execution_count": null,
      "outputs": []
    },
    {
      "cell_type": "code",
      "metadata": {
        "collapsed": true,
        "id": "Qwz-rOaha902",
        "colab": {
          "base_uri": "https://localhost:8080/"
        },
        "outputId": "a7de2a56-ab95-4c1d-ab86-56a3a9891eb9"
      },
      "source": [
        "i = 0\n",
        "for batch in train_iter:\n",
        "    print(\"Max Input sequence length:\", batch.sms[0].shape[1])\n",
        "\n",
        "    texts = batch.sms[0]\n",
        "    test = torch.where(texts == 1.0, 1, 0)\n",
        "    print(\"Number of <pad> characters:\", int(torch.sum(test)), \"\\n\")\n",
        "\n",
        "    i += 1\n",
        "    \n",
        "    if i == 10 :\n",
        "      break"
      ],
      "execution_count": null,
      "outputs": [
        {
          "output_type": "stream",
          "text": [
            "Max Input sequence length: 145\n",
            "Number of <pad> characters: 34 \n",
            "\n",
            "Max Input sequence length: 155\n",
            "Number of <pad> characters: 27 \n",
            "\n",
            "Max Input sequence length: 72\n",
            "Number of <pad> characters: 15 \n",
            "\n",
            "Max Input sequence length: 36\n",
            "Number of <pad> characters: 7 \n",
            "\n",
            "Max Input sequence length: 116\n",
            "Number of <pad> characters: 47 \n",
            "\n",
            "Max Input sequence length: 157\n",
            "Number of <pad> characters: 3 \n",
            "\n",
            "Max Input sequence length: 25\n",
            "Number of <pad> characters: 0 \n",
            "\n",
            "Max Input sequence length: 31\n",
            "Number of <pad> characters: 0 \n",
            "\n",
            "Max Input sequence length: 59\n",
            "Number of <pad> characters: 10 \n",
            "\n",
            "Max Input sequence length: 68\n",
            "Number of <pad> characters: 27 \n",
            "\n"
          ],
          "name": "stdout"
        }
      ]
    },
    {
      "cell_type": "markdown",
      "metadata": {
        "id": "y7HnqP6_a904"
      },
      "source": [
        "## Part 2. Model Building [8 pt]\n",
        "\n",
        "Build a recurrent neural network model, using an architecture of your choosing. \n",
        "Use the one-hot embedding of each character as input to your recurrent network.\n",
        "Use one or more fully-connected layers to make the prediction based on your\n",
        "recurrent network output.\n",
        "\n",
        "Instead of using the RNN output value for the final token, another often used\n",
        "strategy is to max-pool over the entire output array. That is, instead of calling\n",
        "something like:\n",
        "\n",
        "```\n",
        "out, _ = self.rnn(x)\n",
        "self.fc(out[:, -1, :])\n",
        "```\n",
        "\n",
        "where `self.rnn` is an `nn.RNN`, `nn.GRU`, or `nn.LSTM` module, and `self.fc` is a \n",
        "fully-connected \n",
        "layer, we use:\n",
        "\n",
        "```\n",
        "out, _ = self.rnn(x)\n",
        "self.fc(torch.max(out, dim=1)[0])\n",
        "```\n",
        "\n",
        "This works reasonably in practice. An even better alternative is to concatenate the\n",
        "max-pooling and average-pooling of the RNN outputs:\n",
        "\n",
        "```\n",
        "out, _ = self.rnn(x)\n",
        "out = torch.cat([torch.max(out, dim=1)[0], \n",
        "                 torch.mean(out, dim=1)], dim=1)\n",
        "self.fc(out)\n",
        "```\n",
        "\n",
        "We encourage you to try out all these options. The way you pool the RNN outputs\n",
        "is one of the \"hyperparameters\" that you can choose to tune later on."
      ]
    },
    {
      "cell_type": "code",
      "metadata": {
        "collapsed": true,
        "id": "jHl1p_Wwa905",
        "colab": {
          "base_uri": "https://localhost:8080/"
        },
        "outputId": "6c12961b-5f9a-4d24-df72-e5a07891355c"
      },
      "source": [
        "# You might find this code helpful for obtaining\n",
        "# PyTorch one-hot vectors.\n",
        "\n",
        "ident = torch.eye(10)\n",
        "print(ident[0]) # one-hot vector\n",
        "print(ident[1]) # one-hot vector\n",
        "x = torch.tensor([[1, 2], [3, 4]])\n",
        "print(ident[x]) # one-hot vectors"
      ],
      "execution_count": null,
      "outputs": [
        {
          "output_type": "stream",
          "text": [
            "tensor([1., 0., 0., 0., 0., 0., 0., 0., 0., 0.])\n",
            "tensor([0., 1., 0., 0., 0., 0., 0., 0., 0., 0.])\n",
            "tensor([[[0., 1., 0., 0., 0., 0., 0., 0., 0., 0.],\n",
            "         [0., 0., 1., 0., 0., 0., 0., 0., 0., 0.]],\n",
            "\n",
            "        [[0., 0., 0., 1., 0., 0., 0., 0., 0., 0.],\n",
            "         [0., 0., 0., 0., 1., 0., 0., 0., 0., 0.]]])\n"
          ],
          "name": "stdout"
        }
      ]
    },
    {
      "cell_type": "markdown",
      "metadata": {
        "id": "vKIYPl_Ba90_"
      },
      "source": [
        "## Part 3. Training [16 pt]\n",
        "\n",
        "### Part (a) [4 pt]\n",
        "\n",
        "Complete the `get_accuracy` function, which will compute the\n",
        "accuracy (rate) of your model across a dataset (e.g. validation set).\n",
        "You may modify `torchtext.data.BucketIterator` to make your computation\n",
        "faster."
      ]
    },
    {
      "cell_type": "code",
      "metadata": {
        "collapsed": true,
        "id": "pvNfhGD6a91A"
      },
      "source": [
        "def get_accuracy(model, data):\n",
        "  \"\"\" Compute the accuracy of the `model` across a dataset `data`\n",
        "  \n",
        "  Example usage:\n",
        "  \n",
        "  >>> model = MyRNN() # to be defined\n",
        "  >>> get_accuracy(model, valid) # the variable `valid` is from above\n",
        "  \"\"\"\n",
        "  accuracy = 0.0\n",
        "  total = 0.0\n",
        "  for text, label in data:\n",
        "\n",
        "    output = model(text[0])\n",
        "    prediction = output.max(1, keepdim=True)[1]\n",
        "    accuracy += prediction.eq(label.view_as(prediction)).sum().item()\n",
        "    total += label.shape[0]\n",
        "  \n",
        "\n",
        "  return float(accuracy/total)"
      ],
      "execution_count": null,
      "outputs": []
    },
    {
      "cell_type": "markdown",
      "metadata": {
        "id": "TlxlcAC1a91C"
      },
      "source": [
        "### Part (b) [4 pt]\n",
        "\n",
        "Train your model. Plot the training curve of your final model. \n",
        "Your training curve should have the training/validation loss and\n",
        "accuracy plotted periodically.\n",
        "\n",
        "Note: Not all of your batches will have the same batch size.\n",
        "In particular, if your training set does not divide evenly by\n",
        "your batch size, there will be a batch that is smaller than\n",
        "the rest. "
      ]
    },
    {
      "cell_type": "code",
      "metadata": {
        "collapsed": true,
        "id": "CVtf7CJCa91D"
      },
      "source": [
        "class simpleSpamDetector(nn.Module):\r\n",
        "  def __init__(self, input_size, hidden_size, num_classes):\r\n",
        "    super(simpleSpamDetector, self).__init__()\r\n",
        "\r\n",
        "    self.ident = torch.eye(input_size)\r\n",
        "    self.hidden_size = hidden_size\r\n",
        "    self.rnn = nn.RNN(input_size, hidden_size, batch_first=True)\r\n",
        "    self.fc = nn.Linear(hidden_size, num_classes)\r\n",
        "    self.name = \"simpleSpamDetector\"\r\n",
        "\r\n",
        "  def forward(self, x):\r\n",
        "    x = self.ident[x]\r\n",
        "\r\n",
        "    h0 = torch.zeros(1, x.size(0), self.hidden_size)\r\n",
        "    out, _ = self.rnn(x, h0)\r\n",
        "    out = self.fc(out[:, -1, :])\r\n",
        "    return out\r\n"
      ],
      "execution_count": null,
      "outputs": []
    },
    {
      "cell_type": "code",
      "metadata": {
        "id": "KXgDYUcC_rtH"
      },
      "source": [
        "def train_model(model, train_loader, valid_loader, batch_size=64, num_epochs=5, learning_rate=0.001):\r\n",
        "  print(\"train_model\")\r\n",
        "  model_name = model.name  + '_lr_' +  str(learning_rate) + '_bs_' + str(batch_size) + '_epc_' + str(num_epochs) + '.pt'\r\n",
        "  PATH = '/content/drive/MyDrive/Colab Notebooks/Model checkpoint/' + model_name\r\n",
        "\r\n",
        "  # Batch the SMS' based on their length...\r\n",
        "  train_iter = torchtext.legacy.data.BucketIterator(train_loader,\r\n",
        "                                           batch_size=batch_size,\r\n",
        "                                           sort_key=lambda x: len(x.sms), # to minimize padding\r\n",
        "                                           sort_within_batch=True,        # sort within each batch\r\n",
        "                                           repeat=False)     \r\n",
        "\r\n",
        "  valid_iter = torchtext.legacy.data.BucketIterator(valid_loader,\r\n",
        "                                           batch_size=batch_size,\r\n",
        "                                           sort_key=lambda x: len(x.sms), # to minimize padding\r\n",
        "                                           sort_within_batch=True,        # sort within each batch\r\n",
        "                                           repeat=False)           \r\n",
        "\r\n",
        "  iters = []\r\n",
        "  train_loss = []\r\n",
        "  val_loss = []\r\n",
        "  train_acc = []\r\n",
        "  val_acc = []\r\n",
        "\r\n",
        "  torch.manual_seed(1000)\r\n",
        "  criterion = nn.CrossEntropyLoss()\r\n",
        "  optimizer = torch.optim.Adam(model.parameters(), lr=learning_rate)\r\n",
        "\r\n",
        "  # Number of iterations\r\n",
        "  n = 0\r\n",
        "\r\n",
        "  for epoch in range(num_epochs):\r\n",
        "    # Train the model on the training data\r\n",
        "    for data in train_iter:\r\n",
        "      optimizer.zero_grad()\r\n",
        "\r\n",
        "      text, labels = data\r\n",
        "\r\n",
        "      output = model(text[0])\r\n",
        "\r\n",
        "      loss = criterion(output, labels)\r\n",
        "      loss.backward()\r\n",
        "      optimizer.step()\r\n",
        "      n += 1\r\n",
        "\r\n",
        "    iters.append(epoch)\r\n",
        "    train_loss.append(float(loss) / batch_size)\r\n",
        "    train_acc.append(get_accuracy(model, train_iter))\r\n",
        "\r\n",
        "\r\n",
        "    # Validate the model...\r\n",
        "    for data in valid_iter:\r\n",
        "      text, labels = data\r\n",
        "\r\n",
        "      output = model(text[0])\r\n",
        "      loss = criterion(output, labels)\r\n",
        "\r\n",
        "    val_loss.append(float(loss) / batch_size)\r\n",
        "    val_acc.append(get_accuracy(model, valid_iter))\r\n",
        "\r\n",
        "    torch.save({\r\n",
        "        'epoch': epoch,\r\n",
        "        'model_state_dict': model.state_dict(),\r\n",
        "        'optimizer_state_dict': optimizer.state_dict(),\r\n",
        "        'loss': train_loss[-1],\r\n",
        "      }, PATH)\r\n",
        "  # Plotting\r\n",
        "  plt.title(\"Training Error Curve\")\r\n",
        "  plt.plot(iters, train_loss, label=\"Train\")\r\n",
        "  plt.plot(iters, val_loss, label=\"Validation\")\r\n",
        "  plt.xlabel(\"Iterations\")\r\n",
        "  plt.ylabel(\"Loss\")\r\n",
        "  plt.legend(loc='best')\r\n",
        "  plt.show()\r\n",
        "\r\n",
        "  plt.title(\"Training Loss Curve\")\r\n",
        "  plt.plot(iters, train_acc, label=\"Train\")\r\n",
        "  plt.plot(iters, val_acc, label=\"Validation\")\r\n",
        "  plt.xlabel(\"Iterations\")\r\n",
        "  plt.ylabel(\"Training Accuracy\")\r\n",
        "  plt.legend(loc='best')\r\n",
        "  plt.show()\r\n",
        "\r\n",
        "  return train_loss, train_acc, val_loss, val_acc"
      ],
      "execution_count": null,
      "outputs": []
    },
    {
      "cell_type": "code",
      "metadata": {
        "id": "nlBZ6PTsgVzk",
        "colab": {
          "base_uri": "https://localhost:8080/"
        },
        "outputId": "2f4fd9fb-f9e7-44f4-a279-67c9a1331624"
      },
      "source": [
        "text_field = torchtext.legacy.data.Field(sequential=True,      # text sequence\r\n",
        "                                  tokenize=lambda x: x, # because are building a character-RNN\r\n",
        "                                  include_lengths=True, # to track the length of sequences, for batching\r\n",
        "                                  batch_first=True,\r\n",
        "                                  use_vocab=True)       # to turn each character into an integer index\r\n",
        "\r\n",
        "label_field = torchtext.legacy.data.Field(sequential=False,    # not a sequence\r\n",
        "                                   use_vocab=False,     # don't need to track vocabulary\r\n",
        "                                   is_target=True,      \r\n",
        "                                   batch_first=True,\r\n",
        "                                   preprocessing=lambda x: int(x == 'spam')) # convert text to 0 and 1\r\n",
        "\r\n",
        "fields = [('label', label_field), ('sms', text_field)]\r\n",
        "dataset = torchtext.legacy.data.TabularDataset('/content/drive/MyDrive/Colab Notebooks/SMSSpamCollection', # name of the file\r\n",
        "                                        \"tsv\",                                                      # fields are separated by a tab\r\n",
        "                                        fields)\r\n",
        "\r\n",
        "train_set, val_set, test_set = dataset.split(split_ratio=[0.6, 0.2, 0.2])\r\n",
        "\r\n",
        "balance(train_set)"
      ],
      "execution_count": null,
      "outputs": [
        {
          "output_type": "execute_result",
          "data": {
            "text/plain": [
              "<torchtext.legacy.data.dataset.Dataset at 0x7f509a05a8d0>"
            ]
          },
          "metadata": {
            "tags": []
          },
          "execution_count": 62
        }
      ]
    },
    {
      "cell_type": "code",
      "metadata": {
        "colab": {
          "base_uri": "https://localhost:8080/",
          "height": 573
        },
        "id": "RmJytWWGF2w3",
        "outputId": "3cc753f5-7bac-44dc-b372-9fc991d51381"
      },
      "source": [
        "# Testing to make sure the training, accuracy, and loss work...\r\n",
        "\r\n",
        "# Input size is the number of unique characters in the entire dataset\r\n",
        "text_field.build_vocab(train_set)\r\n",
        "text_field.vocab.stoi\r\n",
        "input_size = len(text_field.vocab.itos)\r\n",
        "\r\n",
        "# This is a hyperparameter\r\n",
        "hidden_size = 50\r\n",
        "\r\n",
        "# Either Spam or Ham!\r\n",
        "num_classes = 2\r\n",
        "\r\n",
        "model = simpleSpamDetector(input_size, hidden_size, num_classes)\r\n",
        "\r\n",
        "train_loss, train_acc, val_loss, val_acc = train_model(model, train_set, val_set, batch_size=32, num_epochs=50, learning_rate=0.01)"
      ],
      "execution_count": null,
      "outputs": [
        {
          "output_type": "display_data",
          "data": {
            "image/png": "[encoded data removed]",
            "text/plain": [
              "<Figure size 432x288 with 1 Axes>"
            ]
          },
          "metadata": {
            "tags": [],
            "needs_background": "light"
          }
        },
        {
          "output_type": "display_data",
          "data": {
            "image/png": "[encoded data removed]",
            "text/plain": [
              "<Figure size 432x288 with 1 Axes>"
            ]
          },
          "metadata": {
            "tags": [],
            "needs_background": "light"
          }
        }
      ]
    },
    {
      "cell_type": "markdown",
      "metadata": {
        "id": "fE3eRkDAa91F"
      },
      "source": [
        "### Part (c) [4 pt]\n",
        "\n",
        "Choose at least 4 hyperparameters to tune. Explain how you tuned the hyperparameters.\n",
        "You don't need to include your training curve for every model you trained.\n",
        "Instead, explain what hyperparemters you tuned, what the best validation accuracy was,\n",
        "and the reasoning behind the hyperparameter decisions you made.\n",
        "\n",
        "For this assignment, you should tune more than just your learning rate and epoch. \n",
        "Choose at least 2 hyperparameters that are unrelated to the optimizer."
      ]
    },
    {
      "cell_type": "markdown",
      "metadata": {
        "id": "RizjmLRFONFU"
      },
      "source": [
        "HyperParameters:\r\n",
        "\r\n",
        "\r\n",
        "*   RNN model type: Vanilla, GRU, or LSTM\r\n",
        "*   Hidden units: 50, 100, 150, 200\r\n",
        "*   Learning rate: 0.01, 0.005, 0.001\r\n",
        "*   RNN pooling: None, max-pool, average max-pool\r\n",
        "\r\n"
      ]
    },
    {
      "cell_type": "markdown",
      "metadata": {
        "id": "nao_666sjYSs"
      },
      "source": [
        "$\r\n",
        "\\begin{array}{ |c c c| }\r\n",
        "Model & Loss &  Accuracy\\\\\r\n",
        "\\hline\r\n",
        "Vanilla & 9.553e-7 & 98.20 \\\\\r\n",
        "GRU     & 4.0985e-7 & 99.01\\\\\r\n",
        "LSTM    &   0.0113 &  84.75 \\\\\r\n",
        "\\end{array}\r\n",
        "$\r\n",
        "\r\n",
        "The best accuract achieved was 99.20% using the GRU model. When I analyzed the loss and accuracy graph of LTSM it was quite eratic. Because of this, I decided to choose the GRU model because it had very high accuracy, low loss, and training stability. "
      ]
    },
    {
      "cell_type": "markdown",
      "metadata": {
        "id": "QVQFjAD_oi8r"
      },
      "source": [
        "$\r\n",
        "\\begin{array}{|c c c|}\r\n",
        "  Hidden \\hspace{2mm} size & Loss & Accuracy \\\\\r\n",
        "  \\hline\r\n",
        "  50 & 1.1024e-8 &98.38\\\\\r\n",
        "  100 & 1.6460e-7 & 98.56\\\\\r\n",
        "  150 & 0.0004 & 86.72\\\\\r\n",
        "  200 & 0.0030 &91.55\\\\\r\n",
        "\\end{array}\r\n",
        "$ <br>\r\n",
        "All 4 hyperparameters tested yielded about the same accuracy with only slight variation in loss. But I choose to use 50 because it had a high accuracy, the lowest loss, and was the quickest to train.\r\n"
      ]
    },
    {
      "cell_type": "markdown",
      "metadata": {
        "id": "w68k9Glqv1tC"
      },
      "source": [
        "$\r\n",
        "\\begin{array}{|c c c|}\r\n",
        "Learning \\hspace{2mm} & Loss & Accuracy \\\\\r\n",
        "\\hline\r\n",
        "0.01  & 1.1024e-7 & 98.38\\\\\r\n",
        "0.005 & 6.7520e-9 & 98.74\\\\\r\n",
        "0.001 & 4.74e-10 & 98.56\\\r\n",
        "\\end{array}\r\n",
        "$ <br>\r\n",
        "Similar to the hidden unit the accuracy of all the tuned parameters were very close however, both 0.005 and 0.001 demonstrated underfitting in the accuracy graph. Because of this a learning rate of 0.01 was selected.  "
      ]
    },
    {
      "cell_type": "markdown",
      "metadata": {
        "id": "MGGolzgQzK7H"
      },
      "source": [
        "$\r\n",
        "\\begin{array}{|c c c|}\r\n",
        "Pool \\hspace{2mm} type & Loss & Validation \\\\\r\n",
        "\\hline\r\n",
        "None    &  1.1024e-7 & 98.38\\\\\r\n",
        "Max     &1.6298e-8 & 98.47\\\\\r\n",
        "Average & 5.3084e-8& 98.47\\\\\r\n",
        "\\end{array}\r\n",
        "$<br>\r\n",
        "Small note, I had to double the hidden size for the average max pooling to compensate for the averaging. \r\n",
        "It turns out that no pooling was the worst, and average max pooling was the best because it had a very low loss and the best accuracy."
      ]
    },
    {
      "cell_type": "markdown",
      "metadata": {
        "id": "81-cCj7Zhrn_"
      },
      "source": [
        "### Rnn Model type:\r\n"
      ]
    },
    {
      "cell_type": "code",
      "metadata": {
        "collapsed": true,
        "id": "A2GEWfDca91G"
      },
      "source": [
        "# Vanilla RNN\r\n",
        "class VanillaSpamDetector(nn.Module):\r\n",
        "  def __init__(self, input_size, hidden_size, num_classes):\r\n",
        "    super(VanillaSpamDetector, self).__init__()\r\n",
        "\r\n",
        "    self.ident = torch.eye(input_size)\r\n",
        "    self.hidden_size = hidden_size\r\n",
        "    self.rnn = nn.RNN(input_size, hidden_size, batch_first=True)\r\n",
        "    self.fc = nn.Linear(hidden_size, num_classes)\r\n",
        "    self.name = \"VanillaSpamDetector\"\r\n",
        "\r\n",
        "  def forward(self, x):\r\n",
        "    x = self.ident[x]\r\n",
        "\r\n",
        "    h0 = torch.zeros(1, x.size(0), self.hidden_size)\r\n",
        "    out, _ = self.rnn(x, h0)\r\n",
        "    out = self.fc(out[:, -1, :])\r\n",
        "    return out"
      ],
      "execution_count": null,
      "outputs": []
    },
    {
      "cell_type": "code",
      "metadata": {
        "id": "c_tHsJf-f9D5"
      },
      "source": [
        "# GRU RNN\r\n",
        "class GRUSpamDetector(nn.Module):\r\n",
        "  def __init__(self, input_size, hidden_size, num_classes):\r\n",
        "    super(GRUSpamDetector, self).__init__()\r\n",
        "\r\n",
        "    self.ident = torch.eye(input_size)\r\n",
        "    self.hidden_size = hidden_size\r\n",
        "    self.rnn = nn.GRU(input_size, hidden_size, batch_first=True)\r\n",
        "    self.fc = nn.Linear(hidden_size, num_classes)\r\n",
        "    self.name = \"GRUSpamDetector\"\r\n",
        "\r\n",
        "  def forward(self, x):\r\n",
        "    x = self.ident[x]\r\n",
        "\r\n",
        "    h0 = torch.zeros(1, x.size(0), self.hidden_size)\r\n",
        "    out, _ = self.rnn(x, h0)\r\n",
        "    out = self.fc(out[:, -1, :])\r\n",
        "    return out"
      ],
      "execution_count": null,
      "outputs": []
    },
    {
      "cell_type": "code",
      "metadata": {
        "id": "L4Rp6ed6hUT-"
      },
      "source": [
        "# LSTM RNN\r\n",
        "class LSTMSpamDetector(nn.Module):\r\n",
        "  def __init__(self, input_size, hidden_size, num_classes):\r\n",
        "    super(LSTMSpamDetector, self).__init__()\r\n",
        "\r\n",
        "    self.ident = torch.eye(input_size)\r\n",
        "    self.hidden_size = hidden_size\r\n",
        "    self.rnn = nn.LSTM(input_size, hidden_size, batch_first=True)\r\n",
        "    self.fc = nn.Linear(hidden_size, num_classes)\r\n",
        "    self.name = \"LSTMSpamDetector\"\r\n",
        "\r\n",
        "  def forward(self, x):\r\n",
        "    x = self.ident[x]\r\n",
        "\r\n",
        "    h0 = torch.zeros(1, x.size(0), self.hidden_size)\r\n",
        "    c0 = torch.zeros(1, x.size(0), self.hidden_size)\r\n",
        "\r\n",
        "    out, _ = self.rnn(x, (h0, c0))\r\n",
        "    out = self.fc(out[:, -1, :])\r\n",
        "    return out"
      ],
      "execution_count": null,
      "outputs": []
    },
    {
      "cell_type": "code",
      "metadata": {
        "id": "z-WUIB-thyPl"
      },
      "source": [
        "# Input size is the number of unique characters in the entire dataset\r\n",
        "text_field.build_vocab(train_set)\r\n",
        "text_field.vocab.stoi\r\n",
        "input_size = len(text_field.vocab.itos)\r\n",
        "\r\n",
        "# This is a hyperparameter\r\n",
        "hidden_size = 50\r\n",
        "\r\n",
        "# Either Spam or Ham!\r\n",
        "num_classes = 2\r\n",
        "\r\n",
        "model = [LSTMSpamDetector(input_size, hidden_size, num_classes), GRUSpamDetector(input_size, hidden_size, num_classes), VanillaSpamDetector(input_size, hidden_size, num_classes)]\r\n",
        "\r\n",
        "for ai in model:\r\n",
        "  train_loss, train_acc, val_loss, val_acc = train_model(ai, train_set, val_set, batch_size=32, num_epochs=30, learning_rate=0.01)\r\n",
        "\r\n",
        "  print(\"Training Loss:\", train_loss[-1])\r\n",
        "  print(\"Training Accuracy:\", train_acc[-1])\r\n",
        "  print(\"Validation Loss:\", val_loss[-1])\r\n",
        "  print(\"Validation Accuracy:\", val_acc[-1])\r\n"
      ],
      "execution_count": null,
      "outputs": []
    },
    {
      "cell_type": "markdown",
      "metadata": {
        "id": "CcnuCI2mlze5"
      },
      "source": [
        "### Hidden units:"
      ]
    },
    {
      "cell_type": "code",
      "metadata": {
        "id": "CKrLM29il4KJ"
      },
      "source": [
        "# Input size is the number of unique characters in the entire dataset\r\n",
        "text_field.build_vocab(train_set)\r\n",
        "text_field.vocab.stoi\r\n",
        "input_size = len(text_field.vocab.itos)\r\n",
        "\r\n",
        "hidden_size = [50, 100, 150, 200]\r\n",
        "\r\n",
        "# Either Spam or Ham!\r\n",
        "num_classes = 2\r\n",
        "\r\n",
        "\r\n",
        "for s in hidden_size:\r\n",
        "  model = GRUSpamDetector(input_size, s, num_classes)\r\n",
        "  train_loss, train_acc, val_loss, val_acc = train_model(model, train_set, val_set, batch_size=32, num_epochs=30, learning_rate=0.01)\r\n",
        "\r\n",
        "  print(\"Training Loss:\", train_loss[-1])\r\n",
        "  print(\"Training Accuracy:\", train_acc[-1])\r\n",
        "  print(\"Validation Loss:\", val_loss[-1])\r\n",
        "  print(\"Validation Accuracy:\", val_acc[-1])\r\n"
      ],
      "execution_count": null,
      "outputs": []
    },
    {
      "cell_type": "markdown",
      "metadata": {
        "id": "-1Qs-6oNpqtn"
      },
      "source": [
        "### Learning rate:\r\n"
      ]
    },
    {
      "cell_type": "code",
      "metadata": {
        "id": "QWXIeDAMpwU6"
      },
      "source": [
        "# Input size is the number of unique characters in the entire dataset\r\n",
        "text_field.build_vocab(train_set)\r\n",
        "text_field.vocab.stoi\r\n",
        "input_size = len(text_field.vocab.itos)\r\n",
        "\r\n",
        "hidden_size = 50\r\n",
        "\r\n",
        "learning_rate = [0.01, 0.005, 0.001]\r\n",
        "\r\n",
        "# Either Spam or Ham!\r\n",
        "num_classes = 2\r\n",
        "\r\n",
        "model = GRUSpamDetector(input_size, hidden_size, num_classes)\r\n",
        "\r\n",
        "for lr in learning_rate:\r\n",
        "  train_loss, train_acc, val_loss, val_acc = train_model(model, train_set, val_set, batch_size=32, num_epochs=30, learning_rate=lr)\r\n",
        "\r\n",
        "  print(\"Training Loss:\", train_loss[-1])\r\n",
        "  print(\"Training Accuracy:\", train_acc[-1])\r\n",
        "  print(\"Validation Loss:\", val_loss[-1])\r\n",
        "  print(\"Validation Accuracy:\", val_acc[-1])"
      ],
      "execution_count": null,
      "outputs": []
    },
    {
      "cell_type": "markdown",
      "metadata": {
        "id": "yrIstd1WxM_K"
      },
      "source": [
        "### RNN Pooling:"
      ]
    },
    {
      "cell_type": "code",
      "metadata": {
        "id": "vujsSzDyxSGX"
      },
      "source": [
        "# GRU RNN\r\n",
        "class GRUSpamDetector(nn.Module):\r\n",
        "  def __init__(self, input_size, hidden_size, num_classes):\r\n",
        "    super(GRUSpamDetector, self).__init__()\r\n",
        "\r\n",
        "    self.ident = torch.eye(input_size)\r\n",
        "    self.hidden_size = hidden_size\r\n",
        "    self.rnn = nn.GRU(input_size, hidden_size, batch_first=True)\r\n",
        "    self.fc = nn.Linear(hidden_size, num_classes)\r\n",
        "    self.name = \"GRUSpamDetector\"\r\n",
        "\r\n",
        "  def forward(self, x):\r\n",
        "    x = self.ident[x]\r\n",
        "\r\n",
        "    h0 = torch.zeros(1, x.size(0), self.hidden_size)\r\n",
        "\r\n",
        "    out, _ = self.rnn(x, h0)\r\n",
        "    out = self.fc(out[:, -1, :])\r\n",
        "    return out"
      ],
      "execution_count": null,
      "outputs": []
    },
    {
      "cell_type": "code",
      "metadata": {
        "id": "wTfHZwhZxWV_"
      },
      "source": [
        "# GRU RNN\r\n",
        "class GRUMPSpamDetector(nn.Module):\r\n",
        "  def __init__(self, input_size, hidden_size, num_classes):\r\n",
        "    super(GRUMPSpamDetector, self).__init__()\r\n",
        "\r\n",
        "    self.ident = torch.eye(input_size)\r\n",
        "    self.hidden_size = hidden_size\r\n",
        "    self.rnn = nn.GRU(input_size, hidden_size, batch_first=True)\r\n",
        "    self.fc = nn.Linear(hidden_size, num_classes)\r\n",
        "    self.name = \"GRUMPSpamDetector\"\r\n",
        "\r\n",
        "  def forward(self, x):\r\n",
        "    x = self.ident[x]\r\n",
        "\r\n",
        "    h0 = torch.zeros(1, x.size(0), self.hidden_size)\r\n",
        "\r\n",
        "    out, _ = self.rnn(x, h0)\r\n",
        "    out = self.fc(torch.max(out, dim=1)[0])\r\n",
        "    return out"
      ],
      "execution_count": null,
      "outputs": []
    },
    {
      "cell_type": "code",
      "metadata": {
        "id": "vT3X5UtPx4Ij"
      },
      "source": [
        "# GRU RNN\r\n",
        "class GRUAMPSpamDetector(nn.Module):\r\n",
        "  def __init__(self, input_size, hidden_size, num_classes):\r\n",
        "    super(GRUAMPSpamDetector, self).__init__()\r\n",
        "\r\n",
        "    self.ident = torch.eye(input_size)\r\n",
        "    self.hidden_size = hidden_size\r\n",
        "    self.rnn = nn.GRU(input_size, hidden_size, batch_first=True)\r\n",
        "    self.fc = nn.Linear(2 * hidden_size, num_classes)\r\n",
        "    self.name = \"GRUAMPSpamDetector\"\r\n",
        "\r\n",
        "  def forward(self, x):\r\n",
        "    x = self.ident[x]\r\n",
        "\r\n",
        "    h0 = torch.zeros(1, x.size(0), self.hidden_size)\r\n",
        "\r\n",
        "    out, _ = self.rnn(x, h0)\r\n",
        "    out = torch.cat([torch.max(out, dim=1)[0], torch.mean(out, dim=1)], dim=1)\r\n",
        "    out = self.fc(out)\r\n",
        "    return out"
      ],
      "execution_count": null,
      "outputs": []
    },
    {
      "cell_type": "code",
      "metadata": {
        "id": "LUEK07AgyFSG"
      },
      "source": [
        "# Input size is the number of unique characters in the entire dataset\r\n",
        "text_field.build_vocab(train_set)\r\n",
        "text_field.vocab.stoi\r\n",
        "input_size = len(text_field.vocab.itos)\r\n",
        "\r\n",
        "# This is a hyperparameter\r\n",
        "hidden_size = 50\r\n",
        "\r\n",
        "# Either Spam or Ham!\r\n",
        "num_classes = 2\r\n",
        "\r\n",
        "model_1 = GRUSpamDetector(input_size, hidden_size, num_classes)\r\n",
        "model_2 = GRUMPSpamDetector(input_size, hidden_size, num_classes)\r\n",
        "model_3 = GRUAMPSpamDetector(input_size, hidden_size, num_classes)\r\n",
        "\r\n",
        "model = [model_1, model_2, model_3]\r\n",
        "\r\n",
        "for ai in model:\r\n",
        "  train_loss, train_acc, val_loss, val_acc = train_model(ai, train_set, val_set, batch_size=32, num_epochs=30, learning_rate=0.01)\r\n",
        "\r\n",
        "  print(\"Training Loss:\", train_loss[-1])\r\n",
        "  print(\"Training Accuracy:\", train_acc[-1])\r\n",
        "  print(\"Validation Loss:\", val_loss[-1])\r\n",
        "  print(\"Validation Accuracy:\", val_acc[-1])"
      ],
      "execution_count": null,
      "outputs": []
    },
    {
      "cell_type": "markdown",
      "metadata": {
        "id": "v7DY56rKa91I"
      },
      "source": [
        "### Part (d) [2 pt]\n",
        "\n",
        "Before we deploy a machine learning model, we usually want to have a better understanding\n",
        "of how our model performs beyond its validation accuracy. An important metric to track is\n",
        "*how well our model performs in certain subsets of the data*.\n",
        "\n",
        "In particular, what is the model's error rate amongst data with negative labels?\n",
        "This is called the **false positive rate**.\n",
        "\n",
        "What about the model's error rate amongst data with positive labels?\n",
        "This is called the **false negative rate**.\n",
        "\n",
        "Report your final model's false positive and false negative rate across the\n",
        "validation set."
      ]
    },
    {
      "cell_type": "markdown",
      "metadata": {
        "id": "fzlZ0uYUSb3A"
      },
      "source": [
        "The false positive rate is 0.04% and the false negative rate is 8.8%"
      ]
    },
    {
      "cell_type": "code",
      "metadata": {
        "collapsed": true,
        "id": "7ggbQSdba91J"
      },
      "source": [
        "# Create a Dataset of only spam validation examples\n",
        "valid_spam = torchtext.legacy.data.Dataset(\n",
        "    [e for e in val_set.examples if e.label == 1],\n",
        "    val_set.fields)\n",
        "# Create a Dataset of only non-spam validation examples\n",
        "valid_nospam = torchtext.legacy.data.Dataset(\n",
        "    [e for e in val_set.examples if e.label == 0],\n",
        "    val_set.fields)"
      ],
      "execution_count": null,
      "outputs": []
    },
    {
      "cell_type": "code",
      "metadata": {
        "id": "2cTEhk4EOs3A"
      },
      "source": [
        "valid_spam_iter = torchtext.legacy.data.BucketIterator(valid_spam,\r\n",
        "                                          batch_size=32,\r\n",
        "                                          sort_key=lambda x: len(x.sms), # to minimize padding\r\n",
        "                                          sort_within_batch=True,        # sort within each batch\r\n",
        "                                          repeat=False)   \r\n",
        "\r\n",
        "valid_nospam_iter = torchtext.legacy.data.BucketIterator(valid_nospam,\r\n",
        "                                        batch_size=32,\r\n",
        "                                        sort_key=lambda x: len(x.sms), # to minimize padding\r\n",
        "                                        sort_within_batch=True,        # sort within each batch\r\n",
        "                                        repeat=False)   \r\n",
        "  "
      ],
      "execution_count": null,
      "outputs": []
    },
    {
      "cell_type": "code",
      "metadata": {
        "id": "B-FR4JmdPQ0l"
      },
      "source": [
        "# Input size is the number of unique characters in the entire dataset\r\n",
        "text_field.build_vocab(train_set)\r\n",
        "text_field.vocab.stoi\r\n",
        "input_size = len(text_field.vocab.itos)\r\n",
        "\r\n",
        "# This is a hyperparameter\r\n",
        "hidden_size = 50\r\n",
        "\r\n",
        "# Either Spam or Ham!\r\n",
        "num_classes = 2\r\n",
        "\r\n",
        "model = GRUAMPSpamDetector(input_size, hidden_size, num_classes)\r\n",
        " \r\n",
        "checkpoint = torch.load('/content/drive/MyDrive/Colab Notebooks/Model checkpoint/GRUAMPSpamDetector_lr_0.01_bs_32_epc_30.pt')\r\n",
        "model.load_state_dict(checkpoint['model_state_dict'])\r\n",
        "\r\n",
        "optimizer = torch.optim.Adam(model.parameters(), lr=0.01)\r\n",
        "optimizer.load_state_dict(checkpoint['optimizer_state_dict'])\r\n",
        "\r\n",
        "epoch = checkpoint['epoch']\r\n",
        "loss = checkpoint['loss']"
      ],
      "execution_count": null,
      "outputs": []
    },
    {
      "cell_type": "code",
      "metadata": {
        "colab": {
          "base_uri": "https://localhost:8080/"
        },
        "id": "JRrF47OiR4y6",
        "outputId": "5e29c7dc-8687-4cdd-fc28-8710441c56d2"
      },
      "source": [
        "print(\"False positive rate:\", 1 - get_accuracy(model, valid_nospam_iter))\r\n",
        "print(\"False negative rate:\", 1 - get_accuracy(model, valid_spam_iter))"
      ],
      "execution_count": null,
      "outputs": [
        {
          "output_type": "stream",
          "text": [
            "False positive rate: 0.0040858018386108474\n",
            "False negative rate: 0.08823529411764708\n"
          ],
          "name": "stdout"
        }
      ]
    },
    {
      "cell_type": "markdown",
      "metadata": {
        "id": "N1iRteb3a91O"
      },
      "source": [
        "### Part (e) [2 pt]\n",
        "\n",
        "The impact of a false positive vs a false negative can be drastically different.\n",
        "If our spam detection algorithm was deployed on your phone, what is the impact\n",
        "of a false positive on the phone's user? What is the impact of a false negative?"
      ]
    },
    {
      "cell_type": "markdown",
      "metadata": {
        "id": "8et07zwQV_B5"
      },
      "source": [
        "False positive means that a text messages that in reality isn't spam is labeled as spam. For example, if your doctor sends you a text about something urgent but gets flagged as spam the user might be put into real danger. <br>\r\n",
        "On the other hand false negative means that text messages that are in actuallity spam are labeled as normal. This would be an annoyance to the user but could also lead to them getting scammed because they trust all messages shown to them. "
      ]
    },
    {
      "cell_type": "markdown",
      "metadata": {
        "id": "Gznefulsa91V"
      },
      "source": [
        "## Part 4. Evaluation [11 pt]\n",
        "\n",
        "### Part (a) [1 pt]\n",
        "\n",
        "Report the final test accuracy of your model."
      ]
    },
    {
      "cell_type": "markdown",
      "metadata": {
        "id": "oyntUjm4rqB_"
      },
      "source": [
        "The final accuracy of the model is 98.56%"
      ]
    },
    {
      "cell_type": "code",
      "metadata": {
        "collapsed": true,
        "id": "D5L5D-A1a91W"
      },
      "source": [
        "# Input size is the number of unique characters in the entire dataset\r\n",
        "text_field.build_vocab(train_set)\r\n",
        "text_field.vocab.stoi\r\n",
        "input_size = len(text_field.vocab.itos)\r\n",
        "\r\n",
        "# This is a hyperparameter\r\n",
        "hidden_size = 50\r\n",
        "\r\n",
        "# Either Spam or Ham!\r\n",
        "num_classes = 2\r\n",
        "\r\n",
        "model = GRUAMPSpamDetector(input_size, hidden_size, num_classes)\r\n",
        "\r\n",
        "checkpoint = torch.load('/content/drive/MyDrive/Colab Notebooks/Model checkpoint/GRUAMPSpamDetector_lr_0.01_bs_32_epc_30.pt')\r\n",
        "model.load_state_dict(checkpoint['model_state_dict'])\r\n",
        "\r\n",
        "optimizer = torch.optim.Adam(model.parameters(), lr=0.01)\r\n",
        "optimizer.load_state_dict(checkpoint['optimizer_state_dict'])\r\n",
        "\r\n",
        "epoch = checkpoint['epoch']\r\n",
        "loss = checkpoint['loss']"
      ],
      "execution_count": null,
      "outputs": []
    },
    {
      "cell_type": "code",
      "metadata": {
        "colab": {
          "base_uri": "https://localhost:8080/"
        },
        "id": "YRq4E4oqrHzb",
        "outputId": "b548dbb7-c61c-4ec4-aace-8dae7053cc5d"
      },
      "source": [
        "test_iter = torchtext.legacy.data.BucketIterator(test_set,\r\n",
        "                                          batch_size=32,\r\n",
        "                                          sort_key=lambda x: len(x.sms), # to minimize padding\r\n",
        "                                          sort_within_batch=True,        # sort within each batch\r\n",
        "                                          repeat=False)   \r\n",
        "\r\n",
        "get_accuracy(model, test_iter)"
      ],
      "execution_count": null,
      "outputs": [
        {
          "output_type": "execute_result",
          "data": {
            "text/plain": [
              "0.9856373429084381"
            ]
          },
          "metadata": {
            "tags": []
          },
          "execution_count": 44
        }
      ]
    },
    {
      "cell_type": "markdown",
      "metadata": {
        "id": "6Hjmd8rca91Y"
      },
      "source": [
        "### Part (b) [3 pt]\n",
        "\n",
        "Report the false positive rate and false negative rate of your model across the test set."
      ]
    },
    {
      "cell_type": "markdown",
      "metadata": {
        "id": "Do2d-bHf6tvz"
      },
      "source": [
        "The false positive rate is 1.1% and the false negative rate is 7.4%"
      ]
    },
    {
      "cell_type": "code",
      "metadata": {
        "collapsed": true,
        "id": "GFiAKztJa91Z"
      },
      "source": [
        "# Create a Dataset of only spam validation examples\r\n",
        "test_spam = torchtext.legacy.data.Dataset(\r\n",
        "    [e for e in test_set.examples if e.label == 1],\r\n",
        "    val_set.fields)\r\n",
        "# Create a Dataset of only non-spam validation examples\r\n",
        "test_nospam = torchtext.legacy.data.Dataset(\r\n",
        "    [e for e in test_set.examples if e.label == 0],\r\n",
        "    val_set.fields)"
      ],
      "execution_count": null,
      "outputs": []
    },
    {
      "cell_type": "code",
      "metadata": {
        "id": "ZimtwscW6dUH"
      },
      "source": [
        "test_spam_iter = torchtext.legacy.data.BucketIterator(test_spam,\r\n",
        "                                          batch_size=32,\r\n",
        "                                          sort_key=lambda x: len(x.sms), # to minimize padding\r\n",
        "                                          sort_within_batch=True,        # sort within each batch\r\n",
        "                                          repeat=False)   \r\n",
        "\r\n",
        "test_nospam_iter = torchtext.legacy.data.BucketIterator(test_nospam,\r\n",
        "                                        batch_size=32,\r\n",
        "                                        sort_key=lambda x: len(x.sms), # to minimize padding\r\n",
        "                                        sort_within_batch=True,        # sort within each batch\r\n",
        "                                        repeat=False)  "
      ],
      "execution_count": null,
      "outputs": []
    },
    {
      "cell_type": "code",
      "metadata": {
        "id": "F6fIP6926kO6"
      },
      "source": [
        "# Input size is the number of unique characters in the entire dataset\r\n",
        "text_field.build_vocab(train_set)\r\n",
        "text_field.vocab.stoi\r\n",
        "input_size = len(text_field.vocab.itos)\r\n",
        "\r\n",
        "# This is a hyperparameter\r\n",
        "hidden_size = 50\r\n",
        "\r\n",
        "# Either Spam or Ham!\r\n",
        "num_classes = 2\r\n",
        "\r\n",
        "model = GRUAMPSpamDetector(input_size, hidden_size, num_classes)\r\n",
        "\r\n",
        "checkpoint = torch.load('/content/drive/MyDrive/Colab Notebooks/Model checkpoint/GRUAMPSpamDetector_lr_0.01_bs_32_epc_30.pt')\r\n",
        "model.load_state_dict(checkpoint['model_state_dict'])\r\n",
        "\r\n",
        "optimizer = torch.optim.Adam(model.parameters(), lr=0.01)\r\n",
        "optimizer.load_state_dict(checkpoint['optimizer_state_dict'])\r\n",
        "\r\n",
        "epoch = checkpoint['epoch']\r\n",
        "loss = checkpoint['loss']"
      ],
      "execution_count": null,
      "outputs": []
    },
    {
      "cell_type": "code",
      "metadata": {
        "colab": {
          "base_uri": "https://localhost:8080/"
        },
        "id": "0JtAKIzW6ogo",
        "outputId": "55934a15-ef38-4758-fcca-33820fc9738a"
      },
      "source": [
        "print(\"False positive rate:\", 1 - get_accuracy(model, test_nospam_iter))\r\n",
        "print(\"False negative rate:\", 1 - get_accuracy(model, test_spam_iter))"
      ],
      "execution_count": null,
      "outputs": [
        {
          "output_type": "stream",
          "text": [
            "False positive rate: 0.011387163561076608\n",
            "False negative rate: 0.07432432432432434\n"
          ],
          "name": "stdout"
        }
      ]
    },
    {
      "cell_type": "markdown",
      "metadata": {
        "id": "0jGHtQFpa91b"
      },
      "source": [
        "### Part (c) [3 pt]\n",
        "\n",
        "What is your model's prediction of the **probability** that\n",
        "the SMS message \"machine learning is sooo cool!\" is spam?\n",
        "\n",
        "Hint: To begin, use `text_field.vocab.stoi` to look up the index\n",
        "of each character in the vocabulary."
      ]
    },
    {
      "cell_type": "code",
      "metadata": {
        "id": "K9zc5KD-A1uC"
      },
      "source": [
        "for data in test_nospam_iter:\r\n",
        "  text, label = data\r\n",
        "  print(text[0].shape)\r\n",
        "  break\r\n",
        "print(msg_tensor.shape)"
      ],
      "execution_count": null,
      "outputs": []
    },
    {
      "cell_type": "code",
      "metadata": {
        "collapsed": true,
        "id": "h_2nSJq8a91b"
      },
      "source": [
        "msg = \"machine learning is sooo cool!\""
      ],
      "execution_count": null,
      "outputs": []
    },
    {
      "cell_type": "code",
      "metadata": {
        "id": "U3pGmoB-64Gd"
      },
      "source": [
        "# Convert the msg to a numerical tensor representation\r\n",
        "\r\n",
        "vocabulary = text_field.vocab.stoi\r\n",
        "indexes = text_field.vocab.itos\r\n",
        "\r\n",
        "msg_indexes = [[]]\r\n",
        "\r\n",
        "for i in msg:\r\n",
        "  if(i == \" \" ):\r\n",
        "    msg_indexes[0].append(1)\r\n",
        "  else:\r\n",
        "    msg_indexes[0].append(vocabulary[i])\r\n",
        "\r\n",
        "msg_tensor = torch.LongTensor(msg_indexes)"
      ],
      "execution_count": null,
      "outputs": []
    },
    {
      "cell_type": "code",
      "metadata": {
        "id": "SXEzaG3U9Yoh"
      },
      "source": [
        "# Input size is the number of unique characters in the entire dataset\r\n",
        "text_field.build_vocab(train_set)\r\n",
        "text_field.vocab.stoi\r\n",
        "input_size = len(text_field.vocab.itos)\r\n",
        "\r\n",
        "# This is a hyperparameter\r\n",
        "hidden_size = 50\r\n",
        "\r\n",
        "# Either Spam or Ham!\r\n",
        "num_classes = 2\r\n",
        "\r\n",
        "model = GRUAMPSpamDetector(input_size, hidden_size, num_classes)\r\n",
        "\r\n",
        "checkpoint = torch.load('/content/drive/MyDrive/Colab Notebooks/Model checkpoint/GRUAMPSpamDetector_final.pt')\r\n",
        "model.load_state_dict(checkpoint['model_state_dict'])\r\n",
        "\r\n",
        "optimizer = torch.optim.Adam(model.parameters(), lr=0.01)\r\n",
        "optimizer.load_state_dict(checkpoint['optimizer_state_dict'])\r\n",
        "\r\n",
        "epoch = checkpoint['epoch']\r\n",
        "loss = checkpoint['loss']"
      ],
      "execution_count": null,
      "outputs": []
    },
    {
      "cell_type": "code",
      "metadata": {
        "id": "p9nsZCVx9fJD"
      },
      "source": [
        "output = model(msg_tensor)"
      ],
      "execution_count": null,
      "outputs": []
    },
    {
      "cell_type": "markdown",
      "metadata": {
        "id": "GcrG4wQ3CZ_H"
      },
      "source": [
        "Recall:\r\n",
        "$\r\n",
        "P\\{y = 1 | x \\} = \\frac{e^{W^T x}}{1 + e^{W^T x}}\r\n",
        "$"
      ]
    },
    {
      "cell_type": "code",
      "metadata": {
        "id": "5Q5D4jWhCEJW"
      },
      "source": [
        "P_not_spam = float(torch.exp(output[0][0]) / (1 + torch.exp(output[0][0])))\r\n",
        "P_spam = 1 - P_not_spam"
      ],
      "execution_count": null,
      "outputs": []
    },
    {
      "cell_type": "code",
      "metadata": {
        "colab": {
          "base_uri": "https://localhost:8080/"
        },
        "id": "LHrh2qLoCxH2",
        "outputId": "309dabcb-045c-4862-8f44-44fd7a779750"
      },
      "source": [
        "print(\"The probability that this is spam is:\", 100 * P_spam, \"%\")\r\n",
        "print(\"The probability that this is not spam:\", 100 * P_not_spam, \"%\")"
      ],
      "execution_count": null,
      "outputs": [
        {
          "output_type": "stream",
          "text": [
            "The probability that this is spam is: 0.1957416534423828 %\n",
            "The probability that this is not spam: 99.80425834655762 %\n"
          ],
          "name": "stdout"
        }
      ]
    },
    {
      "cell_type": "markdown",
      "metadata": {
        "id": "QD1zgYJpa91f"
      },
      "source": [
        "### Part (d) [4 pt]\n",
        "\n",
        "Do you think detecting spam is an easy or difficult task?\n",
        "\n",
        "Since machine learning models are expensive to train and deploy, it is very\n",
        "important to compare our models against baseline models: a simple\n",
        "model that is easy to build and inexpensive to run that we can compare our\n",
        "recurrent neural network model against.\n",
        "\n",
        "Explain how you might build a simple baseline model. This baseline model\n",
        "can be a simple neural network (with very few weights), a hand-written algorithm,\n",
        "or any other strategy that is easy to build and test.\n",
        "\n",
        "**Do not actually build a baseline model. Instead, provide instructions on\n",
        "how to build it.**"
      ]
    },
    {
      "cell_type": "markdown",
      "metadata": {
        "id": "FnR6U-BzWu7a"
      },
      "source": [
        "Processing human language is very difficult in general, and as spammer/scammers think of smarter ways to trick people it only gets more and more difficult to seperate real human communication from nefarious communication.\r\n"
      ]
    },
    {
      "cell_type": "markdown",
      "metadata": {
        "id": "TKFSuB9bXGla"
      },
      "source": [
        "A super easy way to create a baseline model is to use a model library. For example, a very common and accessible library is Sklearn. Using this library you can simply import a premade model. In this case we can simply use a regression model that implements SGD.\r\n",
        "\r\n",
        "\r\n",
        "```\r\n",
        "from sklearn import linear_model\r\n",
        "\r\n",
        "model = linear_model.SGDRegressor()\r\n",
        "\r\n",
        "# Training ...\r\n",
        "model.fit(training_data, training_labels)\r\n",
        "\r\n",
        "\r\n",
        "# Testing ....\r\n",
        "result = model.predict(testing_data)\r\n",
        "get_accuracy(result, testing_labels)\r\n",
        "```\r\n",
        "After importing the library pass in the training data, and the training labels. Now the model is trainied. Note that there's no need to split the data in to a validation set since sklearn will do this for you. To test the model pass in the testing data and compare the results to the testing data.  \r\n",
        "\r\n"
      ]
    }
  ]
}